{
  "nbformat": 4,
  "nbformat_minor": 0,
  "metadata": {
    "colab": {
      "provenance": [],
      "toc_visible": true,
      "authorship_tag": "ABX9TyOAYKXvz7SjSd2pmIX/Wsn/",
      "include_colab_link": true
    },
    "kernelspec": {
      "name": "python3",
      "display_name": "Python 3"
    },
    "language_info": {
      "name": "python"
    }
  },
  "cells": [
    {
      "cell_type": "markdown",
      "metadata": {
        "id": "view-in-github",
        "colab_type": "text"
      },
      "source": [
        "<a href=\"https://colab.research.google.com/github/hussain0048/Machine-Learning-Tools/blob/main/MLflow_hellow_Word.ipynb\" target=\"_parent\"><img src=\"https://colab.research.google.com/assets/colab-badge.svg\" alt=\"Open In Colab\"/></a>"
      ]
    },
    {
      "cell_type": "code",
      "execution_count": null,
      "metadata": {
        "id": "76ZIbyJ5RgOB"
      },
      "outputs": [],
      "source": []
    },
    {
      "cell_type": "markdown",
      "source": [
        "# **Prerequisites**"
      ],
      "metadata": {
        "id": "BlsNn0MWSDQs"
      }
    },
    {
      "cell_type": "code",
      "source": [
        "!pip install pandas"
      ],
      "metadata": {
        "id": "gQBJaRqASONs"
      },
      "execution_count": null,
      "outputs": []
    },
    {
      "cell_type": "code",
      "source": [
        "!pip install scikit-learn"
      ],
      "metadata": {
        "id": "CitRh5yhSsTz"
      },
      "execution_count": null,
      "outputs": []
    },
    {
      "cell_type": "code",
      "source": [
        "!pip install matplotlib"
      ],
      "metadata": {
        "id": "2fqtxMalS03y"
      },
      "execution_count": null,
      "outputs": []
    },
    {
      "cell_type": "code",
      "source": [
        "!pip install numpy "
      ],
      "metadata": {
        "id": "KPfmgHJjS5nj"
      },
      "execution_count": null,
      "outputs": []
    },
    {
      "cell_type": "code",
      "source": [
        "!pip install mlflow"
      ],
      "metadata": {
        "id": "7nPyNHfDS-1K"
      },
      "execution_count": null,
      "outputs": []
    },
    {
      "cell_type": "markdown",
      "source": [
        "# **Load mlflow**"
      ],
      "metadata": {
        "id": "YImFkdq_UxzJ"
      }
    },
    {
      "cell_type": "code",
      "source": [
        "import mlflow\n",
        "import matplotlib\n",
        "import matplotlib.pyplot as plt\n",
        "import pandas as pd \n",
        "import  sklearn"
      ],
      "metadata": {
        "id": "SHscRVk0UWKi"
      },
      "execution_count": 10,
      "outputs": []
    },
    {
      "cell_type": "code",
      "source": [
        "print(\"MLflow Version :\", mlflow.version.VERSION)"
      ],
      "metadata": {
        "id": "K0OScwDFTbA7"
      },
      "execution_count": null,
      "outputs": []
    },
    {
      "cell_type": "code",
      "source": [
        "print(\"pandas Version :\", pd._version)"
      ],
      "metadata": {
        "id": "-m-UEdElUhb7"
      },
      "execution_count": null,
      "outputs": []
    },
    {
      "cell_type": "code",
      "source": [
        "help(mlflow)"
      ],
      "metadata": {
        "id": "TSbslyCzUwSJ"
      },
      "execution_count": null,
      "outputs": []
    },
    {
      "cell_type": "code",
      "source": [
        "from mlflow.tracking.fluent import end_run\n",
        "def run(run_name=\"\"):\n",
        "    mlflow.set_experiment(\"hellowword\")\n",
        "    with mlflow.start_run() as r:\n",
        "         print (\"running hellowword.ipynp\")\n",
        "         print(\"Model run:\", r.info.run_uuid)\n",
        "         mlflow.set_tag(\"mlflow.runName\", run_name)\n",
        "         mlflow.log_param(\"param1\", randint(0,100))\n",
        "         mlflow.log_metric(\"foo\",random())\n",
        "         mlflow.log_metric(\"foo1\",random()+1)\n",
        "         mlflow.set_tag(\"run_origin\",\"jupyter_notebook\")\n",
        "         if not os.path.existst(\"outputs\"):\n",
        "            os.makedirs(\"outputs\")\n",
        "         with open (\"outputs/test.ext\", \"w\") as f:\n",
        "            f.write(\"hellow wordl\"\n",
        "      mlflow.end_run()"
      ],
      "metadata": {
        "colab": {
          "base_uri": "https://localhost:8080/",
          "height": 135
        },
        "id": "xKq_BtjDV40O",
        "outputId": "3c1de9a7-98ab-472d-f883-89aae2991780"
      },
      "execution_count": 33,
      "outputs": [
        {
          "output_type": "error",
          "ename": "SyntaxError",
          "evalue": "ignored",
          "traceback": [
            "\u001b[0;36m  File \u001b[0;32m\"<ipython-input-33-d1f184afb9b4>\"\u001b[0;36m, line \u001b[0;32m16\u001b[0m\n\u001b[0;31m    mlflow.end_run()\u001b[0m\n\u001b[0m         ^\u001b[0m\n\u001b[0;31mSyntaxError\u001b[0m\u001b[0;31m:\u001b[0m invalid syntax\n"
          ]
        }
      ]
    }
  ]
}