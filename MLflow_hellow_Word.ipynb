{
  "nbformat": 4,
  "nbformat_minor": 0,
  "metadata": {
    "colab": {
      "provenance": [],
      "toc_visible": true,
      "authorship_tag": "ABX9TyMbhVKX5a+GXvvRWoHN2xTU",
      "include_colab_link": true
    },
    "kernelspec": {
      "name": "python3",
      "display_name": "Python 3"
    },
    "language_info": {
      "name": "python"
    }
  },
  "cells": [
    {
      "cell_type": "markdown",
      "metadata": {
        "id": "view-in-github",
        "colab_type": "text"
      },
      "source": [
        "<a href=\"https://colab.research.google.com/github/hussain0048/Machine-Learning-Tools/blob/main/MLflow_hellow_Word.ipynb\" target=\"_parent\"><img src=\"https://colab.research.google.com/assets/colab-badge.svg\" alt=\"Open In Colab\"/></a>"
      ]
    },
    {
      "cell_type": "code",
      "execution_count": null,
      "metadata": {
        "id": "76ZIbyJ5RgOB"
      },
      "outputs": [],
      "source": []
    },
    {
      "cell_type": "markdown",
      "source": [
        "# **Prerequisites**"
      ],
      "metadata": {
        "id": "BlsNn0MWSDQs"
      }
    },
    {
      "cell_type": "code",
      "source": [
        "!pip install pandas"
      ],
      "metadata": {
        "id": "gQBJaRqASONs"
      },
      "execution_count": null,
      "outputs": []
    },
    {
      "cell_type": "code",
      "source": [
        "!pip install scikit-learn"
      ],
      "metadata": {
        "id": "CitRh5yhSsTz"
      },
      "execution_count": null,
      "outputs": []
    },
    {
      "cell_type": "code",
      "source": [
        "!pip install matplotlib"
      ],
      "metadata": {
        "id": "2fqtxMalS03y"
      },
      "execution_count": null,
      "outputs": []
    },
    {
      "cell_type": "code",
      "source": [
        "!pip install numpy "
      ],
      "metadata": {
        "id": "KPfmgHJjS5nj"
      },
      "execution_count": null,
      "outputs": []
    },
    {
      "cell_type": "code",
      "source": [
        "!pip install mlflow"
      ],
      "metadata": {
        "id": "7nPyNHfDS-1K"
      },
      "execution_count": null,
      "outputs": []
    },
    {
      "cell_type": "markdown",
      "source": [
        "# **Load mlflow**"
      ],
      "metadata": {
        "id": "YImFkdq_UxzJ"
      }
    },
    {
      "cell_type": "code",
      "source": [
        "import mlflow\n",
        "import matplotlib\n",
        "import matplotlib.pyplot as plt\n",
        "import pandas as pd \n",
        "import  sklearn\n",
        "import os\n",
        "from random import random, randint"
      ],
      "metadata": {
        "id": "SHscRVk0UWKi"
      },
      "execution_count": 56,
      "outputs": []
    },
    {
      "cell_type": "code",
      "source": [
        "print(\"MLflow Version :\", mlflow.version.VERSION)"
      ],
      "metadata": {
        "id": "K0OScwDFTbA7"
      },
      "execution_count": null,
      "outputs": []
    },
    {
      "cell_type": "code",
      "source": [
        "print(\"pandas Version :\", pd._version)"
      ],
      "metadata": {
        "id": "-m-UEdElUhb7"
      },
      "execution_count": null,
      "outputs": []
    },
    {
      "cell_type": "code",
      "source": [
        "help(mlflow)"
      ],
      "metadata": {
        "id": "TSbslyCzUwSJ"
      },
      "execution_count": null,
      "outputs": []
    },
    {
      "cell_type": "code",
      "source": [
        "\n",
        "def run(run_name=\"\"):\n",
        "    mlflow.set_experiment(\"hellowword\")\n",
        "    with mlflow.start_run() as r:\n",
        "         print (\"running hellowword.ipynp\")\n",
        "         print(\"Model run:\", r.info.run_uuid)\n",
        "         mlflow.set_tag(\"mlflow.runName\", run_name)\n",
        "         mlflow.log_param(\"param1\", randint(0,100))\n",
        "         mlflow.log_metric(\"foo\",random())\n",
        "         mlflow.log_metric(\"foo1\",random()+1)\n",
        "         mlflow.set_tag(\"run_origin\",\"jupyter_notebook\")\n",
        "         if not os.path.exists(\"outputs\"):\n",
        "           os.makedirs(\"outputs\")\n",
        "         with open (\"outputs/test.ext\", \"w\") as f:\n",
        "            f.write(\"hellow wordl\")\n",
        "         mlflow.log_artifacts(\"outputs\",artifact_path=\"artifact\")\n",
        "\n",
        "         mlflow.end_run()"
      ],
      "metadata": {
        "id": "xKq_BtjDV40O"
      },
      "execution_count": 60,
      "outputs": []
    },
    {
      "cell_type": "code",
      "source": [
        "run ()"
      ],
      "metadata": {
        "colab": {
          "base_uri": "https://localhost:8080/"
        },
        "id": "ZT4zjlPY7RHr",
        "outputId": "5e3b7882-adaf-43b8-f905-9fa6467bb03a"
      },
      "execution_count": 61,
      "outputs": [
        {
          "output_type": "stream",
          "name": "stdout",
          "text": [
            "running hellowword.ipynp\n",
            "Model run: 21ebb84fe12f47b891a0e5cca164d43a\n"
          ]
        }
      ]
    },
    {
      "cell_type": "code",
      "source": [
        "run (\"LocalRun\")"
      ],
      "metadata": {
        "id": "3U5vfh2-8_eJ"
      },
      "execution_count": null,
      "outputs": []
    },
    {
      "cell_type": "code",
      "source": [
        "mlflow.set_tracking_uri(\"http://localhost:1234\")"
      ],
      "metadata": {
        "id": "u9FJU1xt-YC4"
      },
      "execution_count": 64,
      "outputs": []
    },
    {
      "cell_type": "markdown",
      "source": [
        "# **References**"
      ],
      "metadata": {
        "id": "c-FgRDcc5Xjf"
      }
    },
    {
      "cell_type": "markdown",
      "source": [
        "[1-Machine Learning Lifecycle Made Easy with MLflow](https://www.youtube.com/watch?v=WbicniUy_u0&ab_channel=PyData)"
      ],
      "metadata": {
        "id": "o5cUctsp5ciG"
      }
    }
  ]
}